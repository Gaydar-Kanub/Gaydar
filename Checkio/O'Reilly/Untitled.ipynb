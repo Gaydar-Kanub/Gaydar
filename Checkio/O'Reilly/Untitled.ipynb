{
 "cells": [
  {
   "cell_type": "code",
   "execution_count": 1,
   "metadata": {},
   "outputs": [],
   "source": [
    "cross = [\n",
    "            [21, 6, 25, 25, 17],\n",
    "            [14, 0, 6, 0, 2],\n",
    "            [1, 11, 16, 1, 17],\n",
    "            [11, 0, 16, 0, 5],\n",
    "            [26, 3, 14, 20, 6]\n",
    "        ]\n"
   ]
  },
  {
   "cell_type": "code",
   "execution_count": 2,
   "metadata": {},
   "outputs": [
    {
     "name": "stdout",
     "output_type": "stream",
     "text": [
      "[[21, 6, 25, 25, 17], [14, 0, 6, 0, 2], [1, 11, 16, 1, 17], [11, 0, 16, 0, 5], [26, 3, 14, 20, 6]]\n"
     ]
    }
   ],
   "source": [
    "print(cross)"
   ]
  },
  {
   "cell_type": "code",
   "execution_count": 6,
   "metadata": {},
   "outputs": [
    {
     "ename": "SyntaxError",
     "evalue": "invalid syntax (<ipython-input-6-4f3020be598b>, line 1)",
     "output_type": "error",
     "traceback": [
      "\u001b[1;36m  File \u001b[1;32m\"<ipython-input-6-4f3020be598b>\"\u001b[1;36m, line \u001b[1;32m1\u001b[0m\n\u001b[1;33m    d = {tuple(i): x=lambda x: max(x, key=count) for i in cross}\u001b[0m\n\u001b[1;37m                    ^\u001b[0m\n\u001b[1;31mSyntaxError\u001b[0m\u001b[1;31m:\u001b[0m invalid syntax\n"
     ]
    }
   ],
   "source": [
    "d = {tuple(i): lambda x: max(x, key=count) for i in cross}\n",
    "print(d)"
   ]
  },
  {
   "cell_type": "code",
   "execution_count": null,
   "metadata": {},
   "outputs": [],
   "source": []
  }
 ],
 "metadata": {
  "kernelspec": {
   "display_name": "Python 3",
   "language": "python",
   "name": "python3"
  },
  "language_info": {
   "codemirror_mode": {
    "name": "ipython",
    "version": 3
   },
   "file_extension": ".py",
   "mimetype": "text/x-python",
   "name": "python",
   "nbconvert_exporter": "python",
   "pygments_lexer": "ipython3",
   "version": "3.8.2"
  }
 },
 "nbformat": 4,
 "nbformat_minor": 4
}
