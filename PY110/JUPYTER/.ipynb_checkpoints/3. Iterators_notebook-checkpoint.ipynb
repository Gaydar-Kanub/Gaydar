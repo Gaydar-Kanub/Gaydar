{
 "cells": [
  {
   "cell_type": "markdown",
   "metadata": {},
   "source": [
    "# Итераторы"
   ]
  },
  {
   "cell_type": "markdown",
   "metadata": {},
   "source": [
    "Вспоминаем подноготную итераторов.  \n",
    "У итерируемых объектов есть метод iter(), который вернет нам итератор."
   ]
  },
  {
   "cell_type": "code",
   "execution_count": 2,
   "metadata": {},
   "outputs": [
    {
     "name": "stdout",
     "output_type": "stream",
     "text": [
      "<class 'list_iterator'>\n",
      "<class 'list'>\n"
     ]
    }
   ],
   "source": [
    "a = [i for i in range(2)]\n",
    "i_a = iter(a)\n",
    "print(type(i_a))\n",
    "print(type(a))"
   ]
  },
  {
   "cell_type": "markdown",
   "metadata": {},
   "source": [
    "Далее мы можем этот самый итератор перебирать методом next()"
   ]
  },
  {
   "cell_type": "code",
   "execution_count": null,
   "metadata": {},
   "outputs": [],
   "source": [
    "print(next(i_a))\n",
    "print(next(i_a))\n",
    "print(next(i_a))"
   ]
  },
  {
   "cell_type": "markdown",
   "metadata": {},
   "source": [
    "Заметьте, как только итератор кончился - возникло исключение StopIteration."
   ]
  },
  {
   "cell_type": "markdown",
   "metadata": {},
   "source": [
    "К счастью, циклы for, while, слайсы и вообще все, что перебирает объект уже реализует за нас логику обработки итераторов и нам ничего не надо делать.  \n",
    "  \n",
    "Давайте посмотрим, как одни и те же команды работают одинаково с разными **итерируемыми** объектами."
   ]
  },
  {
   "cell_type": "code",
   "execution_count": null,
   "metadata": {},
   "outputs": [],
   "source": [
    "a = \"abcdefg\"\n",
    "for i in a:\n",
    "    print(i)"
   ]
  },
  {
   "cell_type": "code",
   "execution_count": null,
   "metadata": {},
   "outputs": [],
   "source": [
    "a = [\"1\", \"2\", \"3\", \"4\", \"5\", \"6\"]\n",
    "for i in a:\n",
    "    print(i)"
   ]
  },
  {
   "cell_type": "code",
   "execution_count": null,
   "metadata": {},
   "outputs": [],
   "source": [
    "a = range(5)\n",
    "for i in a:\n",
    "    print(i)"
   ]
  },
  {
   "cell_type": "code",
   "execution_count": null,
   "metadata": {},
   "outputs": [],
   "source": [
    "a = {0, 10, 20, 30, 40}\n",
    "for i in a:\n",
    "    print(i)"
   ]
  },
  {
   "cell_type": "markdown",
   "metadata": {},
   "source": [
    "Прекрасно, наигрались и хватит.  \n",
    "  \n",
    "Теперь давайте вспомним модуль itertools. Точнее, **вы** вспомните."
   ]
  },
  {
   "cell_type": "code",
   "execution_count": null,
   "metadata": {},
   "outputs": [],
   "source": [
    "import itertools"
   ]
  },
  {
   "cell_type": "code",
   "execution_count": null,
   "metadata": {},
   "outputs": [],
   "source": [
    "# бесконечная арифметическая прогрессия\n",
    "for i in itertools.что_то:\n",
    "    print(i)"
   ]
  },
  {
   "cell_type": "code",
   "execution_count": null,
   "metadata": {},
   "outputs": [],
   "source": [
    "# бесконечно в цикле повторяем кортеж\n",
    "a = (1, 2, 3)\n",
    "for i in itertools.что_то:\n",
    "    print(i)"
   ]
  },
  {
   "cell_type": "code",
   "execution_count": null,
   "metadata": {},
   "outputs": [],
   "source": [
    "# повторяем число 4 раза\n",
    "a = 10\n",
    "for i in itertools.что_то:\n",
    "    print(i)"
   ]
  },
  {
   "cell_type": "markdown",
   "metadata": {},
   "source": [
    "Прекрасно. Можете скушать конфету."
   ]
  },
  {
   "cell_type": "markdown",
   "metadata": {},
   "source": [
    "# Функциональные преобразования списков\n",
    "Да-да, это тоже нужно. Давайте с ходу в бой. Вспоминаем map."
   ]
  },
  {
   "cell_type": "code",
   "execution_count": null,
   "metadata": {},
   "outputs": [],
   "source": [
    "# вывести длину каждого элемента в списке\n",
    "a = [\"asd\", \"bbd\", \"ddfa\", \"mcsa\"]\n",
    "for i in что_то_с_map_от_a:\n",
    "    print(i)"
   ]
  },
  {
   "cell_type": "code",
   "execution_count": null,
   "metadata": {},
   "outputs": [],
   "source": [
    "# сделаем текст большим! (все буквы - заглавными)\n",
    "a = [\"это\", \"маленький\", \"текст\", \"обидно\"]\n",
    "a = ... # вам нужна какая-то функция для того, чтобы сделать строку большой... но какая?\n",
    "        # подсказка - она доступна у str. Введите str. и нажмите tab. Если не нашли - напишите свою.\n",
    "a = list(a)\n",
    "print(a)"
   ]
  },
  {
   "cell_type": "markdown",
   "metadata": {},
   "source": [
    "Теперь filter..."
   ]
  },
  {
   "cell_type": "code",
   "execution_count": null,
   "metadata": {},
   "outputs": [],
   "source": [
    "# оставьте только те цифры, которые больше 3-х\n",
    "def less_than_3(x):\n",
    "    pass\n",
    "\n",
    "a = [1, 2, 3, 4, 5]\n",
    "a = ...        # хм... Что же сюда?\n",
    "a = list(a)    # кстати, заметили, что нам нужно приводить результат к списку? \n",
    "print(a)       # Все потому, что результат filter (и map) - итерируемый объект.\n",
    "               # Можете перечислить его циклом и убедиться"
   ]
  },
  {
   "cell_type": "markdown",
   "metadata": {},
   "source": [
    "... zip ..."
   ]
  },
  {
   "cell_type": "code",
   "execution_count": null,
   "metadata": {},
   "outputs": [],
   "source": [
    "# хочу записанный вывод через тире :)\n",
    "# 1-a\n",
    "# 2-b \n",
    "# ну и так далее\n",
    "\n",
    "a = [1, 2, 3, 4, 5]\n",
    "b = ['a', 'b', 'c', 'd', 'e']\n",
    "for ... :\n",
    "    print(...)"
   ]
  },
  {
   "cell_type": "markdown",
   "metadata": {},
   "source": [
    "... enumerate ..."
   ]
  },
  {
   "cell_type": "code",
   "execution_count": null,
   "metadata": {},
   "outputs": [],
   "source": [
    "# а теперь то же самое\n",
    "# но без списка чисел\n",
    "# нет, не с нуля\n",
    "\n",
    "a = ['a', 'b', 'c', 'd', 'e']\n",
    "for ... :\n",
    "    print(...)"
   ]
  },
  {
   "cell_type": "markdown",
   "metadata": {},
   "source": [
    "Ура, вы почти готовы к практике! Продолжайте в том же духе."
   ]
  },
  {
   "cell_type": "markdown",
   "metadata": {},
   "source": [
    "# Генераторы\n",
    "Осталось совсем чуть-чуть."
   ]
  },
  {
   "cell_type": "code",
   "execution_count": null,
   "metadata": {},
   "outputs": [],
   "source": [
    "# хм, мне нужен объект, который бесконечно будет возвращать корни четных возрастающих чисел \n",
    "# 1.414 (корень 2-х), 2 (корень 4-х), 2.449 (корень 6-и) и так далее\n",
    "# справитесь?\n",
    "\n",
    "a = ...\n",
    "for i in range(10):\n",
    "    print(next(a))"
   ]
  },
  {
   "cell_type": "markdown",
   "metadata": {},
   "source": [
    "Если вы все сделали правильно - у вас есть объект с бесконечной потенциальной длиной, но вы тратите конечное время памяти. Чудеса. :)  \n",
    "  \n",
    "Давайте на этом закончим. Жду вас на практике!"
   ]
  },
  {
   "cell_type": "code",
   "execution_count": null,
   "metadata": {},
   "outputs": [],
   "source": []
  }
 ],
 "metadata": {
  "kernelspec": {
   "display_name": "Python 3",
   "language": "python",
   "name": "python3"
  },
  "language_info": {
   "codemirror_mode": {
    "name": "ipython",
    "version": 3
   },
   "file_extension": ".py",
   "mimetype": "text/x-python",
   "name": "python",
   "nbconvert_exporter": "python",
   "pygments_lexer": "ipython3",
   "version": "3.8.2"
  }
 },
 "nbformat": 4,
 "nbformat_minor": 2
}
