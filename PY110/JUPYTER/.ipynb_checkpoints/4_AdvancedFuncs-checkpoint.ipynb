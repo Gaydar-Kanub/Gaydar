{
 "cells": [
  {
   "cell_type": "markdown",
   "metadata": {},
   "source": [
    "# Advanced functions\n",
    "Вспоминаем материал лекции"
   ]
  },
  {
   "cell_type": "markdown",
   "metadata": {},
   "source": [
    "## Any, All"
   ]
  },
  {
   "cell_type": "markdown",
   "metadata": {},
   "source": [
    "Any - функция, которая возвращает True, если под условие попадает хотя бы один элемент последовательности."
   ]
  },
  {
   "cell_type": "code",
   "execution_count": 1,
   "metadata": {},
   "outputs": [
    {
     "name": "stdout",
     "output_type": "stream",
     "text": [
      "True\n"
     ]
    }
   ],
   "source": [
    "# что вернет эта функция? Сможете предугадать?\n",
    "print(any(a > 3 for a in range(5)))"
   ]
  },
  {
   "cell_type": "code",
   "execution_count": 2,
   "metadata": {},
   "outputs": [
    {
     "name": "stdout",
     "output_type": "stream",
     "text": [
      "True\n"
     ]
    }
   ],
   "source": [
    "# а вот эта? Почему?\n",
    "print(any(i for i in range(2)))"
   ]
  },
  {
   "cell_type": "markdown",
   "metadata": {},
   "source": [
    "All - аналогично, но под условие должны попадать **все** элементы"
   ]
  },
  {
   "cell_type": "code",
   "execution_count": 3,
   "metadata": {},
   "outputs": [
    {
     "name": "stdout",
     "output_type": "stream",
     "text": [
      "False\n",
      "True\n"
     ]
    }
   ],
   "source": [
    "print(all(i > 2 for i in [1, 3, 5]))\n",
    "print(all(i > 2 for i in [3, 3, 5]))"
   ]
  },
  {
   "cell_type": "markdown",
   "metadata": {},
   "source": [
    "## Lambda функции\n",
    "Лямбда функции - безымянные функции длиной не более 1-й строчки, которые удобны там, где вам лень создавать функцию отдельно.  \n",
    "Примеры:"
   ]
  },
  {
   "cell_type": "code",
   "execution_count": 4,
   "metadata": {},
   "outputs": [
    {
     "name": "stdout",
     "output_type": "stream",
     "text": [
      "[1, 4, 9]\n",
      "[(1, 2), (4, 1), (3, 4)]\n"
     ]
    }
   ],
   "source": [
    "print(list(map(lambda x: x**2, [1, 2, 3])))\n",
    "print(sorted([(1,2), (3,4), (4,1)], key=lambda x: x[0] + x[1]))"
   ]
  },
  {
   "cell_type": "markdown",
   "metadata": {},
   "source": [
    "## Функции-генераторы\n",
    "Функции-генераторы позволяют реализовывать гораздо более сложную логику, нежели простые свертки списков.  \n",
    "Для возврата значений используют ключевое слово yield.  \n",
    "Например, я хочу бесконечную последовательность единиц, перед которой идет 2 нуля."
   ]
  },
  {
   "cell_type": "code",
   "execution_count": null,
   "metadata": {},
   "outputs": [],
   "source": [
    "def strange_fun():\n",
    "    for i in range(5):\n",
    "        yield 0\n",
    "    while True:\n",
    "        yield 1"
   ]
  },
  {
   "cell_type": "code",
   "execution_count": null,
   "metadata": {},
   "outputs": [],
   "source": [
    "for i in strange_fun():\n",
    "    print(i, end=\"\")"
   ]
  },
  {
   "cell_type": "markdown",
   "metadata": {},
   "source": [
    "Вы же уже научились сворачивать вывод ячейки, правда? :)  \n",
    "Если нет - нажмите слева от вывода (под словом In[..], область будет подсвечена)"
   ]
  },
  {
   "cell_type": "markdown",
   "metadata": {},
   "source": [
    "После окончания генератора точно также возвращается StopIteration. Помните, что for автоматически его перехватывает."
   ]
  },
  {
   "cell_type": "code",
   "execution_count": null,
   "metadata": {},
   "outputs": [],
   "source": [
    "def strange_fun():\n",
    "    for i in range(1):\n",
    "        yield 0\n",
    "    for i in range(1):\n",
    "        yield 1\n",
    "\n",
    "a = strange_fun()\n",
    "\n",
    "print(next(a))\n",
    "print(next(a))\n",
    "print(next(a))"
   ]
  },
  {
   "cell_type": "markdown",
   "metadata": {},
   "source": [
    "## Корутины\n",
    "Корутины - это генераторы, принимающие в себя значения"
   ]
  },
  {
   "cell_type": "code",
   "execution_count": null,
   "metadata": {},
   "outputs": [],
   "source": [
    "def str_fun():\n",
    "    buf = []\n",
    "    while True:\n",
    "        inp_str = yield\n",
    "        buf.append(inp_str)\n",
    "        print(buf)\n",
    "        \n",
    "a = str_fun()\n",
    "next(a)       # инициализация\n",
    "a.send(\"a\")\n",
    "a.send(\"Hello\")\n",
    "a.send(\"There is no spoon.\")"
   ]
  },
  {
   "cell_type": "markdown",
   "metadata": {},
   "source": [
    "А теперь соберем все это вместе - будем принимать значения и выводить"
   ]
  },
  {
   "cell_type": "code",
   "execution_count": null,
   "metadata": {},
   "outputs": [],
   "source": [
    "def str_fun():\n",
    "    buf = []\n",
    "    while True:\n",
    "        inp_str = yield buf  # можно в одну строчку, а можно yield buf на отдельной\n",
    "        buf.append(inp_str)\n",
    "\n",
    "a = str_fun()\n",
    "\n",
    "next(a)\n",
    "print(a.send(\"a\"))\n",
    "print(a.send(\"Hello\"))\n",
    "print(a.send(\"There is no spoon.\"))"
   ]
  },
  {
   "cell_type": "markdown",
   "metadata": {},
   "source": [
    "Надеюсь, это уложилось у вас в голове. :) Если нет - поковыряйте еще, попишите разные корутины (например, разберите пример с лекционных слайдов).  \n",
    "На практиках будет сложнее."
   ]
  }
 ],
 "metadata": {
  "kernelspec": {
   "display_name": "Python 3",
   "language": "python",
   "name": "python3"
  },
  "language_info": {
   "codemirror_mode": {
    "name": "ipython",
    "version": 3
   },
   "file_extension": ".py",
   "mimetype": "text/x-python",
   "name": "python",
   "nbconvert_exporter": "python",
   "pygments_lexer": "ipython3",
   "version": "3.8.2"
  }
 },
 "nbformat": 4,
 "nbformat_minor": 2
}
