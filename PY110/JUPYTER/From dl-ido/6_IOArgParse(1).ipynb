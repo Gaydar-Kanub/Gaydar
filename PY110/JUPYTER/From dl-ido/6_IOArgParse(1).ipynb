{
 "cells": [
  {
   "cell_type": "markdown",
   "metadata": {},
   "source": [
    "# IO\n",
    "### Файловая система\n",
    "Ну, здесь все просто.  \n",
    "Открываем файл на запись:"
   ]
  },
  {
   "cell_type": "code",
   "execution_count": null,
   "metadata": {},
   "outputs": [],
   "source": [
    "f = open(\"filename\", \"tw\") # см. лекцию, какие флаги еще есть\n",
    "f.write(\"my string\")\n",
    "f.close()"
   ]
  },
  {
   "cell_type": "code",
   "execution_count": null,
   "metadata": {},
   "outputs": [],
   "source": [
    "# но вот так открывать/закрывать лучше:\n",
    "with open(\"filename\", \"tr\") as f:\n",
    "    print(f.readlines())"
   ]
  },
  {
   "cell_type": "markdown",
   "metadata": {},
   "source": [
    "Вообще менеджер контекста работает не только с файлами, а с любыми объектами, у которых определена операция __ enter __  \n",
    "(подробнее спрашивайте преподавателя на PY200)"
   ]
  },
  {
   "cell_type": "markdown",
   "metadata": {},
   "source": [
    "### Сериализация"
   ]
  },
  {
   "cell_type": "markdown",
   "metadata": {},
   "source": [
    "Вспоминаем: форматы сериализации бывают бинарные и текстовые. Первые быстрее и экономичнее, вторые - человекочитаемы и дебажатся.  \n",
    "Работа с JSON:"
   ]
  },
  {
   "cell_type": "code",
   "execution_count": 1,
   "metadata": {},
   "outputs": [
    {
     "name": "stdout",
     "output_type": "stream",
     "text": [
      "{\"\\u0412\\u0430\\u0441\\u044f\": \"\\u041f\\u0443\\u043f\\u043a\\u0438\\u043d\", \"null\": 3}\n",
      "{'Вася': 'Пупкин', 'null': 3}\n"
     ]
    }
   ],
   "source": [
    "import json\n",
    "a = json.dumps({\"Вася\": \"Пупкин\", None: 3})\n",
    "print(a)    # а можно было и в файл записать \n",
    "            # (кстати, заметили проблемы с кодировкой? Если вы на Linux/MacOS - то не должны, а вот на Windows...)\n",
    "print(json.loads(a))\n",
    "# для записи в файл - dump и load (без s)"
   ]
  },
  {
   "cell_type": "markdown",
   "metadata": {},
   "source": [
    "Работа с pickle:"
   ]
  },
  {
   "cell_type": "code",
   "execution_count": 2,
   "metadata": {},
   "outputs": [
    {
     "name": "stdout",
     "output_type": "stream",
     "text": [
      "b'\\x80\\x04\\x95\"\\x00\\x00\\x00\\x00\\x00\\x00\\x00}\\x94(\\x8c\\x08\\xd0\\x92\\xd0\\xb0\\xd1\\x81\\xd1\\x8f\\x94\\x8c\\x0c\\xd0\\x9f\\xd1\\x83\\xd0\\xbf\\xd0\\xba\\xd0\\xb8\\xd0\\xbd\\x94NK\\x03u.'\n",
      "{'Вася': 'Пупкин', None: 3}\n"
     ]
    }
   ],
   "source": [
    "import pickle\n",
    "a = pickle.dumps({\"Вася\": \"Пупкин\", None: 3})\n",
    "print(a)  # ничего не понимаю\n",
    "print(pickle.loads(a))\n",
    "# для записи в файл - аналогично"
   ]
  },
  {
   "cell_type": "markdown",
   "metadata": {},
   "source": [
    "### argparse"
   ]
  },
  {
   "cell_type": "markdown",
   "metadata": {},
   "source": [
    "Слегка сложновато сделать обработку аргументов **командной строки** в ячейке **интерпретатора**, так что идите-ка вы... в лекцию и внимательно читайте слайды.  \n",
    "На практике пострадаем. :)"
   ]
  },
  {
   "cell_type": "code",
   "execution_count": null,
   "metadata": {},
   "outputs": [],
   "source": []
  }
 ],
 "metadata": {
  "kernelspec": {
   "display_name": "Python 3",
   "language": "python",
   "name": "python3"
  },
  "language_info": {
   "codemirror_mode": {
    "name": "ipython",
    "version": 3
   },
   "file_extension": ".py",
   "mimetype": "text/x-python",
   "name": "python",
   "nbconvert_exporter": "python",
   "pygments_lexer": "ipython3",
   "version": "3.8.2"
  }
 },
 "nbformat": 4,
 "nbformat_minor": 2
}
