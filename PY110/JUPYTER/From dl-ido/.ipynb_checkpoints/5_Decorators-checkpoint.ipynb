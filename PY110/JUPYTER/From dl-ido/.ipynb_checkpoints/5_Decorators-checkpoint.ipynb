{
 "cells": [
  {
   "cell_type": "markdown",
   "metadata": {},
   "source": [
    "# Декораторы\n",
    "Декораторы - специальный синтаксис для \"обертывания\" функции неким дополнительным поведением.  \n",
    "Основной шаблон выглядит вот так:"
   ]
  },
  {
   "cell_type": "code",
   "execution_count": 1,
   "metadata": {},
   "outputs": [],
   "source": [
    "# Запомните это, пожалуйста\n",
    "def my_decorator(fn):\n",
    "    print(\"Этот код будет выведен в момент декорирования функции\")\n",
    "    def wrapper(*args, **kwargs):\n",
    "        print('Этот код будет выполняться перед каждым вызовом функции')\n",
    "        result = fn(*args, **kwargs)\n",
    "        print('Этот код будет выполняться после каждого вызова функции')\n",
    "        return result\n",
    "    return wrapper"
   ]
  },
  {
   "cell_type": "markdown",
   "metadata": {},
   "source": [
    "Your time now! Давайте вы мне напишете декоратор, который проверяет, что на вход функции подан ровно один аргумент и он типа \"строка\" (type(x) == str)"
   ]
  },
  {
   "cell_type": "code",
   "execution_count": 2,
   "metadata": {},
   "outputs": [
    {
     "name": "stdout",
     "output_type": "stream",
     "text": [
      "<class 'str'>\n"
     ]
    },
    {
     "data": {
      "text/plain": [
       "True"
      ]
     },
     "execution_count": 2,
     "metadata": {},
     "output_type": "execute_result"
    }
   ],
   "source": [
    "# как проверять тип данных\n",
    "a = \"a\"\n",
    "print(type(a))\n",
    "type(a) == str"
   ]
  },
  {
   "cell_type": "code",
   "execution_count": 3,
   "metadata": {},
   "outputs": [],
   "source": [
    "# пишем декоратор...\n",
    "def my_big_decorator(fn):\n",
    "    pass\n",
    "\n",
    "@my_big_decorator\n",
    "def my_little_function(x):\n",
    "    print(x)"
   ]
  },
  {
   "cell_type": "markdown",
   "metadata": {},
   "source": [
    "Отлично, пол-дела сделано!  \n",
    "А теперь то же самое, но внутрь декоратора мы будем подавать дополнительный параметр - тип данных, с которым мы должны сравнивать аргумент.  \n",
    "@dec(int) - проверяет, что на вход функции будет подано число  \n",
    "@dec(str) - что строка  \n",
    "ну и так далее"
   ]
  },
  {
   "cell_type": "code",
   "execution_count": 12,
   "metadata": {},
   "outputs": [],
   "source": [
    "# шаблон ищите в лекции, не ленитесь :)\n",
    "def type_checker(check_type):\n",
    "    def decor(func):\n",
    "        def wrapper(*args, **kwargs):\n",
    "            if type(*args, **kwargs) == check_type:\n",
    "                result = func(*args, **kwargs)\n",
    "                return result\n",
    "        return wrapper\n",
    "    return decor"
   ]
  },
  {
   "cell_type": "code",
   "execution_count": 18,
   "metadata": {},
   "outputs": [
    {
     "name": "stdout",
     "output_type": "stream",
     "text": [
      "Test\n"
     ]
    }
   ],
   "source": [
    "@type_checker(str)\n",
    "def pretty_fun(x):\n",
    "    print(x)\n",
    "\n",
    "pretty_fun(3)\n",
    "pretty_fun(\"Test\")"
   ]
  },
  {
   "cell_type": "markdown",
   "metadata": {},
   "source": [
    "You are awesome! Жду вас на практике.  \n",
    "(если не получилось и вы сдались - все равно жду, там будет примерно то же самое)"
   ]
  },
  {
   "cell_type": "code",
   "execution_count": null,
   "metadata": {},
   "outputs": [],
   "source": []
  }
 ],
 "metadata": {
  "kernelspec": {
   "display_name": "Python 3",
   "language": "python",
   "name": "python3"
  },
  "language_info": {
   "codemirror_mode": {
    "name": "ipython",
    "version": 3
   },
   "file_extension": ".py",
   "mimetype": "text/x-python",
   "name": "python",
   "nbconvert_exporter": "python",
   "pygments_lexer": "ipython3",
   "version": "3.8.2"
  }
 },
 "nbformat": 4,
 "nbformat_minor": 2
}
