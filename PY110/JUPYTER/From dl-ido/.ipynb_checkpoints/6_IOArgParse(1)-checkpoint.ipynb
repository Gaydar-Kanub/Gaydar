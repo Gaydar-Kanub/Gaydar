{
 "cells": [
  {
   "cell_type": "markdown",
   "metadata": {},
   "source": [
    "# IO\n",
    "### Файловая система\n",
    "Ну, здесь все просто.  \n",
    "Открываем файл на запись:"
   ]
  },
  {
   "cell_type": "code",
   "execution_count": null,
   "metadata": {},
   "outputs": [],
   "source": [
    "f = open(\"filename\", \"tw\") # см. лекцию, какие флаги еще есть\n",
    "f.write(\"my string\")\n",
    "f.close()"
   ]
  },
  {
   "cell_type": "code",
   "execution_count": null,
   "metadata": {},
   "outputs": [],
   "source": [
    "# но вот так открывать/закрывать лучше:\n",
    "with open(\"filename\", \"tr\") as f:\n",
    "    print(f.readlines())"
   ]
  },
  {
   "cell_type": "markdown",
   "metadata": {},
   "source": [
    "Вообще менеджер контекста работает не только с файлами, а с любыми объектами, у которых определена операция __ enter __  \n",
    "(подробнее спрашивайте преподавателя на PY200)"
   ]
  },
  {
   "cell_type": "markdown",
   "metadata": {},
   "source": [
    "### Сериализация"
   ]
  },
  {
   "cell_type": "markdown",
   "metadata": {},
   "source": [
    "Вспоминаем: форматы сериализации бывают бинарные и текстовые. Первые быстрее и экономичнее, вторые - человекочитаемы и дебажатся.  \n",
    "Работа с JSON:"
   ]
  },
  {
   "cell_type": "code",
   "execution_count": null,
   "metadata": {},
   "outputs": [],
   "source": [
    "import json\n",
    "a = json.dumps({\"Вася\": \"Пупкин\", None: 3})\n",
    "print(a)    # а можно было и в файл записать \n",
    "            # (кстати, заметили проблемы с кодировкой? Если вы на Linux/MacOS - то не должны, а вот на Windows...)\n",
    "print(json.loads(a))\n",
    "# для записи в файл - dump и load (без s)"
   ]
  },
  {
   "cell_type": "markdown",
   "metadata": {},
   "source": [
    "Работа с pickle:"
   ]
  },
  {
   "cell_type": "code",
   "execution_count": null,
   "metadata": {},
   "outputs": [],
   "source": [
    "import pickle\n",
    "a = pickle.dumps({\"Вася\": \"Пупкин\", None: 3})\n",
    "print(a)  # ничего не понимаю\n",
    "print(pickle.loads(a))\n",
    "# для записи в файл - аналогично"
   ]
  },
  {
   "cell_type": "markdown",
   "metadata": {},
   "source": [
    "### argparse"
   ]
  },
  {
   "cell_type": "markdown",
   "metadata": {},
   "source": [
    "Слегка сложновато сделать обработку аргументов **командной строки** в ячейке **интерпретатора**, так что идите-ка вы... в лекцию и внимательно читайте слайды.  \n",
    "На практике пострадаем. :)"
   ]
  },
  {
   "cell_type": "code",
   "execution_count": null,
   "metadata": {},
   "outputs": [],
   "source": []
  }
 ],
 "metadata": {
  "kernelspec": {
   "display_name": "Python 3",
   "language": "python",
   "name": "python3"
  },
  "language_info": {
   "codemirror_mode": {
    "name": "ipython",
    "version": 3
   },
   "file_extension": ".py",
   "mimetype": "text/x-python",
   "name": "python",
   "nbconvert_exporter": "python",
   "pygments_lexer": "ipython3",
   "version": "3.8.2"
  }
 },
 "nbformat": 4,
 "nbformat_minor": 2
}
