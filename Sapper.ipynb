{
 "cells": [
  {
   "cell_type": "code",
   "execution_count": 41,
   "metadata": {},
   "outputs": [],
   "source": [
    "import numpy as np\n",
    "np.random.seed(8)"
   ]
  },
  {
   "cell_type": "code",
   "execution_count": 111,
   "metadata": {},
   "outputs": [
    {
     "name": "stdout",
     "output_type": "stream",
     "text": [
      "[[ 0  0  0 -1  0]\n",
      " [-1  0  0  0 -1]\n",
      " [ 0  0  0  0  0]\n",
      " [ 0  0 -1  0  0]\n",
      " [-1  0  0  0  0]]\n"
     ]
    }
   ],
   "source": [
    "import numpy as np\n",
    "np.random.seed(8)\n",
    "\n",
    "\n",
    "def gen_new_field(x, y, mines):\n",
    "    true_field = np.full(x*y, 0)\n",
    "    m = 0\n",
    "    while mines > m:\n",
    "        i = np.random.randint(0, x*y)\n",
    "        if true_field[i] != -1:\n",
    "            true_field[i] = -1\n",
    "            m += 1\n",
    "    true_field.shape = (x, y)\n",
    "    visible_field = np.full((x, y), \"▓\")\n",
    "    return true_field, visible_field\n",
    "\n",
    "\n",
    "a, b = gen_new_field(5, 5, 5)\n",
    "print(a)\n",
    "# print(b)\n",
    "\n"
   ]
  },
  {
   "cell_type": "code",
   "execution_count": null,
   "metadata": {},
   "outputs": [],
   "source": [
    "    for i in true_field:\n",
    "        for j in true_field:\n",
    "            s = (i-1 if i>1 else 0: i+1 if i<x-1 else x-1, j-1 if j>1 else 0: j+1 if j<y-1 else y-1)"
   ]
  },
  {
   "cell_type": "code",
   "execution_count": 113,
   "metadata": {},
   "outputs": [
    {
     "name": "stdout",
     "output_type": "stream",
     "text": [
      "[[ 0  0 -1]]\n"
     ]
    }
   ],
   "source": [
    "i = 4\n",
    "j = 1\n",
    "s = a[i-1 if i>0 else 0: i+2 if i<x-1 else x-1, j-1 if j>1 else 0: j+2 if j<y-1 else y-1]\n",
    "print(s)"
   ]
  },
  {
   "cell_type": "markdown",
   "metadata": {},
   "source": [
    "i-1 if i>1 else 0              :               i+2 if i<x-1 else x-1"
   ]
  },
  {
   "cell_type": "code",
   "execution_count": 127,
   "metadata": {},
   "outputs": [
    {
     "name": "stdout",
     "output_type": "stream",
     "text": [
      "[[-1  0]\n",
      " [ 0 -1]\n",
      " [ 0  0]]\n"
     ]
    }
   ],
   "source": [
    "i = 1\n",
    "j = 4\n",
    "q = a[i-1 if i>1 else 0: i+2, j-1 if j>0 else 0: j+2]\n",
    "print(q)"
   ]
  },
  {
   "cell_type": "code",
   "execution_count": 128,
   "metadata": {},
   "outputs": [
    {
     "name": "stdout",
     "output_type": "stream",
     "text": [
      "-1\n"
     ]
    }
   ],
   "source": [
    "print(a[3,2])"
   ]
  },
  {
   "cell_type": "code",
   "execution_count": null,
   "metadata": {},
   "outputs": [],
   "source": []
  }
 ],
 "metadata": {
  "kernelspec": {
   "display_name": "Python 3",
   "language": "python",
   "name": "python3"
  },
  "language_info": {
   "codemirror_mode": {
    "name": "ipython",
    "version": 3
   },
   "file_extension": ".py",
   "mimetype": "text/x-python",
   "name": "python",
   "nbconvert_exporter": "python",
   "pygments_lexer": "ipython3",
   "version": "3.8.2"
  }
 },
 "nbformat": 4,
 "nbformat_minor": 4
}
